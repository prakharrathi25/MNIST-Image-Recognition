{
  "nbformat": 4,
  "nbformat_minor": 0,
  "metadata": {
    "colab": {
      "name": "MNIST Digit Recognizer",
      "provenance": [],
      "collapsed_sections": [],
      "authorship_tag": "ABX9TyNZS5GyqvzxnZa1L3oFac9U",
      "include_colab_link": true
    },
    "kernelspec": {
      "name": "python3",
      "display_name": "Python 3"
    }
  },
  "cells": [
    {
      "cell_type": "markdown",
      "metadata": {
        "id": "view-in-github",
        "colab_type": "text"
      },
      "source": [
        "<a href=\"https://colab.research.google.com/github/prakharrathi25/MNIST-Image-Recognition/blob/master/MNIST_Digit_Recognizer.ipynb\" target=\"_parent\"><img src=\"https://colab.research.google.com/assets/colab-badge.svg\" alt=\"Open In Colab\"/></a>"
      ]
    },
    {
      "cell_type": "markdown",
      "metadata": {
        "id": "lL08Yp_Dtxeg",
        "colab_type": "text"
      },
      "source": [
        "# MNIST Image Recognition using Keras"
      ]
    },
    {
      "cell_type": "markdown",
      "metadata": {
        "id": "wZmcSzt1xoJf",
        "colab_type": "text"
      },
      "source": [
        "### Importing necessary libraries"
      ]
    },
    {
      "cell_type": "code",
      "metadata": {
        "id": "VklssldJxOi3",
        "colab_type": "code",
        "colab": {}
      },
      "source": [
        "# Data Manipulation library\n",
        "import numpy as np \n",
        "import pandas as pd\n",
        "\n",
        "# Data visualisation libraries\n",
        "import matplotlib.pyplot as plt \n",
        "import seaborn as sns \n",
        "\n",
        "# Image Manipulation \n",
        "import cv2 as cv\n",
        "\n",
        "# Evaluation and Splitting \n",
        "from sklearn.model_selection import train_test_split\n",
        "from sklearn.metrics import confusion_matrix\n",
        "\n",
        "# Deep Learning Libraries\n",
        "import keras \n",
        "from keras.models import Sequential\n",
        "from keras.layers import Dense, Flatten, Dropout, Conv2D, Lambda, MaxPooling2D\n",
        "from keras.layers.normalization import BatchNormalization \n",
        "from keras.preprocessing.image import ImageDataGenerator\n",
        "from keras.utils.np_utils import to_categorical\n"
      ],
      "execution_count": 0,
      "outputs": []
    },
    {
      "cell_type": "code",
      "metadata": {
        "id": "DkDxZgbntnXD",
        "colab_type": "code",
        "outputId": "e9b40d52-ce96-4d07-b4c2-6db374c6528a",
        "colab": {
          "resources": {
            "http://localhost:8080/nbextensions/google.colab/files.js": {
              "data": "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",
              "ok": true,
              "headers": [
                [
                  "content-type",
                  "application/javascript"
                ]
              ],
              "status": 200,
              "status_text": ""
            }
          },
          "base_uri": "https://localhost:8080/",
          "height": 108
        }
      },
      "source": [
        "# Uploading Data \n",
        "from google.colab import files \n",
        "files.upload() "
      ],
      "execution_count": 0,
      "outputs": [
        {
          "output_type": "display_data",
          "data": {
            "text/html": [
              "\n",
              "     <input type=\"file\" id=\"files-fcd52e0c-86c6-45ee-a7fe-2ed0939c985d\" name=\"files[]\" multiple disabled />\n",
              "     <output id=\"result-fcd52e0c-86c6-45ee-a7fe-2ed0939c985d\">\n",
              "      Upload widget is only available when the cell has been executed in the\n",
              "      current browser session. Please rerun this cell to enable.\n",
              "      </output>\n",
              "      <script src=\"/nbextensions/google.colab/files.js\"></script> "
            ],
            "text/plain": [
              "<IPython.core.display.HTML object>"
            ]
          },
          "metadata": {
            "tags": []
          }
        },
        {
          "output_type": "stream",
          "text": [
            "Saving test.csv to test.csv\n",
            "Saving train.csv to train.csv\n"
          ],
          "name": "stdout"
        }
      ]
    },
    {
      "cell_type": "code",
      "metadata": {
        "id": "O_rvPqXqxMaE",
        "colab_type": "code",
        "outputId": "4b62e1b5-c087-4857-ad79-bae6e1aa60f3",
        "colab": {
          "base_uri": "https://localhost:8080/",
          "height": 33
        }
      },
      "source": [
        "# Loading Data \n",
        "train_data = pd.read_csv('train.csv')\n",
        "test_data = pd.read_csv('test.csv')\n",
        "\n",
        "# Make original data copies \n",
        "train_og = train_data.copy() \n",
        "test_og = test_data.copy() \n",
        "print(train_data.shape, test_data.shape)"
      ],
      "execution_count": 0,
      "outputs": [
        {
          "output_type": "stream",
          "text": [
            "(42000, 785) (28000, 784)\n"
          ],
          "name": "stdout"
        }
      ]
    },
    {
      "cell_type": "code",
      "metadata": {
        "id": "uMkTKq34zGfn",
        "colab_type": "code",
        "outputId": "9fef4477-ae7f-4d13-ded9-4090049770c3",
        "colab": {
          "base_uri": "https://localhost:8080/",
          "height": 284
        }
      },
      "source": [
        "# Sample of the data \n",
        "print(train_data.head())\n",
        "print(test_data.head())"
      ],
      "execution_count": 0,
      "outputs": [
        {
          "output_type": "stream",
          "text": [
            "   label  pixel0  pixel1  pixel2  ...  pixel780  pixel781  pixel782  pixel783\n",
            "0      1       0       0       0  ...         0         0         0         0\n",
            "1      0       0       0       0  ...         0         0         0         0\n",
            "2      1       0       0       0  ...         0         0         0         0\n",
            "3      4       0       0       0  ...         0         0         0         0\n",
            "4      0       0       0       0  ...         0         0         0         0\n",
            "\n",
            "[5 rows x 785 columns]\n",
            "   pixel0  pixel1  pixel2  pixel3  ...  pixel780  pixel781  pixel782  pixel783\n",
            "0       0       0       0       0  ...         0         0         0         0\n",
            "1       0       0       0       0  ...         0         0         0         0\n",
            "2       0       0       0       0  ...         0         0         0         0\n",
            "3       0       0       0       0  ...         0         0         0         0\n",
            "4       0       0       0       0  ...         0         0         0         0\n",
            "\n",
            "[5 rows x 784 columns]\n"
          ],
          "name": "stdout"
        }
      ]
    },
    {
      "cell_type": "code",
      "metadata": {
        "id": "TTw-NuOVzP8r",
        "colab_type": "code",
        "colab": {}
      },
      "source": [
        "# Extract only the features \n",
        "X = train_data.drop(['label'], axis = 1).values\n",
        "y = train_data['label'].values\n",
        "test_X = test_data.values"
      ],
      "execution_count": 0,
      "outputs": []
    },
    {
      "cell_type": "code",
      "metadata": {
        "id": "azYabRis3LC9",
        "colab_type": "code",
        "colab": {}
      },
      "source": [
        "# Grayscale Normalization \n",
        "X = X / 255.0\n",
        "test_X = test_X / 255.0"
      ],
      "execution_count": 0,
      "outputs": []
    },
    {
      "cell_type": "code",
      "metadata": {
        "id": "Ac0A6-B-3U_v",
        "colab_type": "code",
        "colab": {}
      },
      "source": [
        "# Reshape the image data into 3 dimensions (height = 28pixels, width = 28px, 1)\n",
        "# because 28 x 28 = 784 \n",
        "X = X.reshape(-1, 28, 28, 1)\n",
        "test_X = test_X.reshape(-1, 28, 28, 1)"
      ],
      "execution_count": 0,
      "outputs": []
    },
    {
      "cell_type": "markdown",
      "metadata": {
        "id": "W2j3Oi-R3-H2",
        "colab_type": "text"
      },
      "source": [
        "### Encoding"
      ]
    },
    {
      "cell_type": "code",
      "metadata": {
        "id": "6wjLX6kv4Jj9",
        "colab_type": "code",
        "outputId": "a50beecc-b425-4e18-bfae-d0af9ad606e7",
        "colab": {
          "base_uri": "https://localhost:8080/",
          "height": 33
        }
      },
      "source": [
        "# One hot encode the labels. There are 10 labels so we add 10 new dimensions\n",
        "y = to_categorical(y)\n",
        "print(y.shape)"
      ],
      "execution_count": 0,
      "outputs": [
        {
          "output_type": "stream",
          "text": [
            "(42000, 10)\n"
          ],
          "name": "stdout"
        }
      ]
    },
    {
      "cell_type": "code",
      "metadata": {
        "id": "4MC7I4QN4sgc",
        "colab_type": "code",
        "outputId": "3a7b1299-c8a4-446b-8f62-3a8907dbde0d",
        "colab": {
          "base_uri": "https://localhost:8080/",
          "height": 33
        }
      },
      "source": [
        "# Train and validation splits \n",
        "X_train, X_val, y_train, y_val = train_test_split(X, y, test_size=0.25, random_state=324)\n",
        "print(X_train.shape, y_train.shape, X_val.shape, y_val.shape)"
      ],
      "execution_count": 0,
      "outputs": [
        {
          "output_type": "stream",
          "text": [
            "(31500, 28, 28, 1) (31500, 10) (10500, 28, 28, 1) (10500, 10)\n"
          ],
          "name": "stdout"
        }
      ]
    },
    {
      "cell_type": "code",
      "metadata": {
        "id": "y5VC-9Eu7spx",
        "colab_type": "code",
        "outputId": "8e6b88de-d7e6-44a3-d240-7123d2ac0341",
        "colab": {
          "base_uri": "https://localhost:8080/",
          "height": 256
        }
      },
      "source": [
        "# Visulaisation of the data \n",
        "images = X_train.reshape(X_train.shape[0], 28, 28)\n",
        "\n",
        "fig, axis = plt.subplots(1, 5, figsize=(20, 10))\n",
        "for i, ax in enumerate(axis.flat):\n",
        "    ax.imshow(images[i], cmap = 'binary')\n",
        "    digit = y_train[i].argmax()   # finding the number where the array has a 1 which will be the max value\n",
        "    ax.set(title = f\"The number is {digit}\")"
      ],
      "execution_count": 0,
      "outputs": [
        {
          "output_type": "display_data",
          "data": {
            "image/png": "[encoded data removed]",
            "text/plain": [
              "<Figure size 1440x720 with 5 Axes>"
            ]
          },
          "metadata": {
            "tags": []
          }
        }
      ]
    },
    {
      "cell_type": "markdown",
      "metadata": {
        "id": "tzyI4yZUBtfF",
        "colab_type": "text"
      },
      "source": [
        "## Building the CNN"
      ]
    },
    {
      "cell_type": "code",
      "metadata": {
        "id": "3xqTKNvn9gXe",
        "colab_type": "code",
        "colab": {}
      },
      "source": [
        "# Important parameters\n",
        "epochs = 50\n",
        "batch_size = 64"
      ],
      "execution_count": 0,
      "outputs": []
    },
    {
      "cell_type": "code",
      "metadata": {
        "id": "f-NLve04C24K",
        "colab_type": "code",
        "outputId": "2a8fddc3-b2d8-4ba5-cb3f-2c2a06605f25",
        "colab": {
          "base_uri": "https://localhost:8080/",
          "height": 104
        }
      },
      "source": [
        "# Building the CNN Model\n",
        "model = Sequential() \n",
        "model.add(Conv2D(filters=64, kernel_size=(3,3),activation='relu', input_shape=(28,28,1)))\n",
        "model.add(Conv2D(filters=64, kernel_size=(3,3), activation='relu'))\n",
        "\n",
        "model.add(MaxPooling2D(pool_size=(2,2))) # MaxPoolinglayer\n",
        "#model.add(BatchNormalization)\n",
        "model.add(Conv2D(filters=128, kernel_size = (3,3), activation='relu'))\n",
        "\n",
        "model.add(MaxPooling2D(pool_size=(2,2)))\n",
        "#model.add(BatchNormalization())    \n",
        "model.add(Conv2D(filters=256, kernel_size = (3,3), activation=\"relu\"))\n",
        "    \n",
        "model.add(MaxPooling2D(pool_size=(2,2)))\n",
        "    \n",
        "model.add(Flatten())\n",
        "#model.add(BatchNormalization())\n",
        "model.add(Dense(512,activation=\"relu\"))\n",
        "    \n",
        "model.add(Dense(10,activation=\"softmax\"))\n",
        "    \n",
        "model.compile(loss=\"categorical_crossentropy\", optimizer=\"adam\", metrics=[\"accuracy\"])\n"
      ],
      "execution_count": 0,
      "outputs": [
        {
          "output_type": "stream",
          "text": [
            "WARNING:tensorflow:From /usr/local/lib/python3.6/dist-packages/keras/optimizers.py:793: The name tf.train.Optimizer is deprecated. Please use tf.compat.v1.train.Optimizer instead.\n",
            "\n",
            "WARNING:tensorflow:From /usr/local/lib/python3.6/dist-packages/keras/backend/tensorflow_backend.py:3576: The name tf.log is deprecated. Please use tf.math.log instead.\n",
            "\n"
          ],
          "name": "stdout"
        }
      ]
    },
    {
      "cell_type": "markdown",
      "metadata": {
        "id": "9Rxgwej0Iy0u",
        "colab_type": "text"
      },
      "source": [
        "### Data Augmentation"
      ]
    },
    {
      "cell_type": "code",
      "metadata": {
        "id": "TKSKnqIGI0lz",
        "colab_type": "code",
        "colab": {}
      },
      "source": [
        "# Using to prevent overfitting \n",
        "\n",
        "datagen = ImageDataGenerator(featurewise_center=False, \n",
        "                             samplewise_center=False, \n",
        "                             featurewise_std_normalization=False, \n",
        "                             samplewise_std_normalization=False, \n",
        "                             zca_whitening=False,\n",
        "                             rotation_range=10, \n",
        "                             zoom_range=0.1,\n",
        "                             width_shift_range=0.1,\n",
        "                             height_shift_range=0.1,\n",
        "                             horizontal_flip=False,\n",
        "                             vertical_flip=False)\n",
        "\n",
        "#datagen.fit(X_train)\n",
        "train_gen = datagen.flow(X_train, y_train, batch_size=batch_size)\n",
        "test_gen = datagen.flow(X_val, y_val, batch_size=batch_size)"
      ],
      "execution_count": 0,
      "outputs": []
    },
    {
      "cell_type": "code",
      "metadata": {
        "id": "A_faEMHaKVDu",
        "colab_type": "code",
        "outputId": "77b7729e-51b5-44df-b72f-a75397bfb6f2",
        "colab": {
          "base_uri": "https://localhost:8080/",
          "height": 722
        }
      },
      "source": [
        "# Model training \n",
        "model.fit(X, y, batch_size=batch_size, validation_split=0.2, epochs=10)"
      ],
      "execution_count": 0,
      "outputs": [
        {
          "output_type": "stream",
          "text": [
            "WARNING:tensorflow:From /usr/local/lib/python3.6/dist-packages/tensorflow_core/python/ops/math_grad.py:1424: where (from tensorflow.python.ops.array_ops) is deprecated and will be removed in a future version.\n",
            "Instructions for updating:\n",
            "Use tf.where in 2.0, which has the same broadcast rule as np.where\n",
            "WARNING:tensorflow:From /usr/local/lib/python3.6/dist-packages/keras/backend/tensorflow_backend.py:1033: The name tf.assign_add is deprecated. Please use tf.compat.v1.assign_add instead.\n",
            "\n",
            "WARNING:tensorflow:From /usr/local/lib/python3.6/dist-packages/keras/backend/tensorflow_backend.py:1020: The name tf.assign is deprecated. Please use tf.compat.v1.assign instead.\n",
            "\n",
            "WARNING:tensorflow:From /usr/local/lib/python3.6/dist-packages/keras/backend/tensorflow_backend.py:3005: The name tf.Session is deprecated. Please use tf.compat.v1.Session instead.\n",
            "\n",
            "Train on 33600 samples, validate on 8400 samples\n",
            "Epoch 1/10\n",
            "WARNING:tensorflow:From /usr/local/lib/python3.6/dist-packages/keras/backend/tensorflow_backend.py:190: The name tf.get_default_session is deprecated. Please use tf.compat.v1.get_default_session instead.\n",
            "\n",
            "WARNING:tensorflow:From /usr/local/lib/python3.6/dist-packages/keras/backend/tensorflow_backend.py:197: The name tf.ConfigProto is deprecated. Please use tf.compat.v1.ConfigProto instead.\n",
            "\n",
            "WARNING:tensorflow:From /usr/local/lib/python3.6/dist-packages/keras/backend/tensorflow_backend.py:207: The name tf.global_variables is deprecated. Please use tf.compat.v1.global_variables instead.\n",
            "\n",
            "WARNING:tensorflow:From /usr/local/lib/python3.6/dist-packages/keras/backend/tensorflow_backend.py:216: The name tf.is_variable_initialized is deprecated. Please use tf.compat.v1.is_variable_initialized instead.\n",
            "\n",
            "WARNING:tensorflow:From /usr/local/lib/python3.6/dist-packages/keras/backend/tensorflow_backend.py:223: The name tf.variables_initializer is deprecated. Please use tf.compat.v1.variables_initializer instead.\n",
            "\n",
            "33600/33600 [==============================] - 207s 6ms/step - loss: 0.2537 - acc: 0.9187 - val_loss: 0.0749 - val_acc: 0.9774\n",
            "Epoch 2/10\n",
            "33600/33600 [==============================] - 206s 6ms/step - loss: 0.0761 - acc: 0.9771 - val_loss: 0.0862 - val_acc: 0.9736\n",
            "Epoch 3/10\n",
            "33600/33600 [==============================] - 205s 6ms/step - loss: 0.0542 - acc: 0.9831 - val_loss: 0.0666 - val_acc: 0.9820\n",
            "Epoch 4/10\n",
            "33600/33600 [==============================] - 204s 6ms/step - loss: 0.0405 - acc: 0.9873 - val_loss: 0.0732 - val_acc: 0.9811\n",
            "Epoch 5/10\n",
            "33600/33600 [==============================] - 205s 6ms/step - loss: 0.0385 - acc: 0.9885 - val_loss: 0.0800 - val_acc: 0.9795\n",
            "Epoch 6/10\n",
            "33600/33600 [==============================] - 205s 6ms/step - loss: 0.0338 - acc: 0.9893 - val_loss: 0.0465 - val_acc: 0.9883\n",
            "Epoch 7/10\n",
            "33600/33600 [==============================] - 204s 6ms/step - loss: 0.0279 - acc: 0.9916 - val_loss: 0.0592 - val_acc: 0.9867\n",
            "Epoch 8/10\n",
            "33600/33600 [==============================] - 204s 6ms/step - loss: 0.0241 - acc: 0.9931 - val_loss: 0.0469 - val_acc: 0.9867\n",
            "Epoch 9/10\n",
            "33600/33600 [==============================] - 205s 6ms/step - loss: 0.0243 - acc: 0.9932 - val_loss: 0.0526 - val_acc: 0.9888\n",
            "Epoch 10/10\n",
            "33600/33600 [==============================] - 205s 6ms/step - loss: 0.0236 - acc: 0.9934 - val_loss: 0.0749 - val_acc: 0.9856\n"
          ],
          "name": "stdout"
        },
        {
          "output_type": "execute_result",
          "data": {
            "text/plain": [
              "<keras.callbacks.History at 0x7f01a74b5240>"
            ]
          },
          "metadata": {
            "tags": []
          },
          "execution_count": 61
        }
      ]
    },
    {
      "cell_type": "code",
      "metadata": {
        "id": "N0fY2EWLKwDy",
        "colab_type": "code",
        "outputId": "3ea58c05-d5e5-49c5-aa7c-83853e354081",
        "colab": {
          "base_uri": "https://localhost:8080/",
          "height": 1000
        }
      },
      "source": [
        "# Fit the model \n",
        "model_history = model.fit_generator(train_gen,\n",
        "                                    epochs = epochs,\n",
        "                                    steps_per_epoch = X_train.shape[0] // batch_size,\n",
        "                                    validation_data = test_gen,\n",
        "                                    validation_steps = X_val.shape[0] // batch_size)"
      ],
      "execution_count": 0,
      "outputs": [
        {
          "output_type": "stream",
          "text": [
            "Epoch 1/50\n",
            "492/492 [==============================] - 205s 417ms/step - loss: 0.1248 - acc: 0.9649 - val_loss: 0.0702 - val_acc: 0.9785\n",
            "Epoch 2/50\n",
            "492/492 [==============================] - 204s 415ms/step - loss: 0.0761 - acc: 0.9771 - val_loss: 0.0620 - val_acc: 0.9817\n",
            "Epoch 3/50\n",
            "492/492 [==============================] - 203s 412ms/step - loss: 0.0615 - acc: 0.9822 - val_loss: 0.0541 - val_acc: 0.9851\n",
            "Epoch 4/50\n",
            "492/492 [==============================] - 204s 415ms/step - loss: 0.0560 - acc: 0.9829 - val_loss: 0.0583 - val_acc: 0.9842\n",
            "Epoch 5/50\n",
            "492/492 [==============================] - 203s 412ms/step - loss: 0.0504 - acc: 0.9850 - val_loss: 0.0469 - val_acc: 0.9860\n",
            "Epoch 6/50\n",
            "492/492 [==============================] - 203s 413ms/step - loss: 0.0483 - acc: 0.9852 - val_loss: 0.0545 - val_acc: 0.9843\n",
            "Epoch 7/50\n",
            "492/492 [==============================] - 204s 414ms/step - loss: 0.0477 - acc: 0.9859 - val_loss: 0.0547 - val_acc: 0.9850\n",
            "Epoch 8/50\n",
            "492/492 [==============================] - 203s 412ms/step - loss: 0.0426 - acc: 0.9876 - val_loss: 0.0476 - val_acc: 0.9867\n",
            "Epoch 9/50\n",
            "492/492 [==============================] - 203s 413ms/step - loss: 0.0447 - acc: 0.9864 - val_loss: 0.0603 - val_acc: 0.9830\n",
            "Epoch 10/50\n",
            "492/492 [==============================] - 203s 412ms/step - loss: 0.0440 - acc: 0.9872 - val_loss: 0.0522 - val_acc: 0.9866\n",
            "Epoch 11/50\n",
            "492/492 [==============================] - 203s 413ms/step - loss: 0.0401 - acc: 0.9873 - val_loss: 0.0597 - val_acc: 0.9823\n",
            "Epoch 12/50\n",
            "492/492 [==============================] - 203s 414ms/step - loss: 0.0417 - acc: 0.9881 - val_loss: 0.0462 - val_acc: 0.9884\n",
            "Epoch 13/50\n",
            "492/492 [==============================] - 203s 414ms/step - loss: 0.0376 - acc: 0.9883 - val_loss: 0.0764 - val_acc: 0.9784\n",
            "Epoch 14/50\n",
            "492/492 [==============================] - 203s 412ms/step - loss: 0.0395 - acc: 0.9888 - val_loss: 0.0451 - val_acc: 0.9881\n",
            "Epoch 15/50\n",
            "492/492 [==============================] - 202s 411ms/step - loss: 0.0372 - acc: 0.9897 - val_loss: 0.0559 - val_acc: 0.9866\n",
            "Epoch 16/50\n",
            "492/492 [==============================] - 202s 411ms/step - loss: 0.0393 - acc: 0.9887 - val_loss: 0.0655 - val_acc: 0.9828\n",
            "Epoch 17/50\n",
            "492/492 [==============================] - 203s 413ms/step - loss: 0.0371 - acc: 0.9892 - val_loss: 0.0569 - val_acc: 0.9854\n",
            "Epoch 18/50\n",
            "492/492 [==============================] - 204s 414ms/step - loss: 0.0327 - acc: 0.9905 - val_loss: 0.0453 - val_acc: 0.9897\n",
            "Epoch 19/50\n",
            "492/492 [==============================] - 202s 412ms/step - loss: 0.0322 - acc: 0.9910 - val_loss: 0.0516 - val_acc: 0.9876\n",
            "Epoch 20/50\n",
            "492/492 [==============================] - 203s 412ms/step - loss: 0.0355 - acc: 0.9899 - val_loss: 0.0570 - val_acc: 0.9856\n",
            "Epoch 21/50\n",
            "492/492 [==============================] - 203s 413ms/step - loss: 0.0322 - acc: 0.9913 - val_loss: 0.0495 - val_acc: 0.9876\n",
            "Epoch 22/50\n",
            "492/492 [==============================] - 202s 411ms/step - loss: 0.0315 - acc: 0.9908 - val_loss: 0.0437 - val_acc: 0.9890\n",
            "Epoch 23/50\n",
            "492/492 [==============================] - 204s 414ms/step - loss: 0.0297 - acc: 0.9910 - val_loss: 0.0388 - val_acc: 0.9903\n",
            "Epoch 24/50\n",
            "492/492 [==============================] - 203s 412ms/step - loss: 0.0303 - acc: 0.9914 - val_loss: 0.0507 - val_acc: 0.9888\n",
            "Epoch 25/50\n",
            "492/492 [==============================] - 202s 411ms/step - loss: 0.0285 - acc: 0.9916 - val_loss: 0.0398 - val_acc: 0.9904\n",
            "Epoch 26/50\n",
            "492/492 [==============================] - 203s 412ms/step - loss: 0.0275 - acc: 0.9924 - val_loss: 0.0716 - val_acc: 0.9838\n",
            "Epoch 27/50\n",
            "492/492 [==============================] - 203s 412ms/step - loss: 0.0312 - acc: 0.9917 - val_loss: 0.0595 - val_acc: 0.9853\n",
            "Epoch 28/50\n",
            "492/492 [==============================] - 202s 411ms/step - loss: 0.0276 - acc: 0.9923 - val_loss: 0.0534 - val_acc: 0.9887\n",
            "Epoch 29/50\n",
            "492/492 [==============================] - 202s 411ms/step - loss: 0.0288 - acc: 0.9926 - val_loss: 0.0442 - val_acc: 0.9891\n",
            "Epoch 30/50\n",
            "492/492 [==============================] - 203s 412ms/step - loss: 0.0284 - acc: 0.9912 - val_loss: 0.0499 - val_acc: 0.9895\n",
            "Epoch 31/50\n",
            "492/492 [==============================] - 203s 412ms/step - loss: 0.0282 - acc: 0.9919 - val_loss: 0.0682 - val_acc: 0.9872\n",
            "Epoch 32/50\n",
            "492/492 [==============================] - 203s 413ms/step - loss: 0.0363 - acc: 0.9905 - val_loss: 0.0543 - val_acc: 0.9878\n",
            "Epoch 33/50\n",
            "492/492 [==============================] - 203s 413ms/step - loss: 0.0250 - acc: 0.9921 - val_loss: 0.0479 - val_acc: 0.9891\n",
            "Epoch 34/50\n",
            "492/492 [==============================] - 203s 413ms/step - loss: 0.0301 - acc: 0.9921 - val_loss: 0.0460 - val_acc: 0.9888\n",
            "Epoch 35/50\n",
            "492/492 [==============================] - 206s 418ms/step - loss: 0.0285 - acc: 0.9918 - val_loss: 0.0576 - val_acc: 0.9887\n",
            "Epoch 36/50\n",
            "492/492 [==============================] - 203s 414ms/step - loss: 0.0249 - acc: 0.9922 - val_loss: 0.0543 - val_acc: 0.9896\n",
            "Epoch 37/50\n",
            "492/492 [==============================] - 203s 413ms/step - loss: 0.0252 - acc: 0.9930 - val_loss: 0.0576 - val_acc: 0.9872\n",
            "Epoch 38/50\n",
            "492/492 [==============================] - 203s 412ms/step - loss: 0.0324 - acc: 0.9911 - val_loss: 0.0632 - val_acc: 0.9868\n",
            "Epoch 39/50\n",
            "492/492 [==============================] - 203s 412ms/step - loss: 0.0260 - acc: 0.9928 - val_loss: 0.0439 - val_acc: 0.9917\n",
            "Epoch 40/50\n",
            "492/492 [==============================] - 203s 412ms/step - loss: 0.0237 - acc: 0.9935 - val_loss: 0.0566 - val_acc: 0.9881\n",
            "Epoch 41/50\n",
            "492/492 [==============================] - 201s 409ms/step - loss: 0.0258 - acc: 0.9924 - val_loss: 0.0600 - val_acc: 0.9869\n",
            "Epoch 42/50\n",
            "492/492 [==============================] - 202s 411ms/step - loss: 0.0294 - acc: 0.9922 - val_loss: 0.0562 - val_acc: 0.9868\n",
            "Epoch 43/50\n",
            "492/492 [==============================] - 203s 412ms/step - loss: 0.0220 - acc: 0.9941 - val_loss: 0.0414 - val_acc: 0.9908\n",
            "Epoch 44/50\n",
            "492/492 [==============================] - 203s 413ms/step - loss: 0.0279 - acc: 0.9931 - val_loss: 0.0560 - val_acc: 0.9856\n",
            "Epoch 45/50\n",
            "492/492 [==============================] - 203s 412ms/step - loss: 0.0240 - acc: 0.9936 - val_loss: 0.0444 - val_acc: 0.9901\n",
            "Epoch 46/50\n",
            "492/492 [==============================] - 204s 414ms/step - loss: 0.0276 - acc: 0.9924 - val_loss: 0.0748 - val_acc: 0.9859\n",
            "Epoch 47/50\n",
            "492/492 [==============================] - 204s 415ms/step - loss: 0.0231 - acc: 0.9938 - val_loss: 0.0448 - val_acc: 0.9898\n",
            "Epoch 48/50\n",
            "492/492 [==============================] - 204s 414ms/step - loss: 0.0242 - acc: 0.9936 - val_loss: 0.0603 - val_acc: 0.9871\n",
            "Epoch 49/50\n",
            "492/492 [==============================] - 205s 416ms/step - loss: 0.0252 - acc: 0.9934 - val_loss: 0.0409 - val_acc: 0.9912\n",
            "Epoch 50/50\n",
            "492/492 [==============================] - 204s 415ms/step - loss: 0.0261 - acc: 0.9930 - val_loss: 0.0622 - val_acc: 0.9862\n"
          ],
          "name": "stdout"
        }
      ]
    },
    {
      "cell_type": "code",
      "metadata": {
        "id": "r4KfIY-vLHIc",
        "colab_type": "code",
        "outputId": "4c1d6569-1990-4b5a-a227-835986adb659",
        "colab": {
          "base_uri": "https://localhost:8080/",
          "height": 606
        }
      },
      "source": [
        "# Confusion Matrix \n",
        "ig = plt.figure(figsize=(10, 10)) # Set Figure\n",
        "\n",
        "y_pred = model.predict(X_val) # Predict encoded label as 2 => [0, 0, 1, 0, 0, 0, 0, 0, 0, 0]\n",
        "\n",
        "Y_pred = np.argmax(y_pred, 1) # Decode Predicted labels\n",
        "Y_test = np.argmax(y_val, 1) # Decode labels\n",
        "\n",
        "mat = confusion_matrix(Y_test, Y_pred) # Confusion matrix\n",
        "\n",
        "# Plot Confusion matrix\n",
        "sns.heatmap(mat.T, square=True, annot=True, cbar=False, cmap=plt.cm.Blues)\n",
        "plt.xlabel('Predicted Values')\n",
        "plt.ylabel('True Values');\n",
        "plt.show();\n"
      ],
      "execution_count": 0,
      "outputs": [
        {
          "output_type": "display_data",
          "data": {
            "image/png": "[encoded data removed]",
            "text/plain": [
              "<Figure size 720x720 with 1 Axes>"
            ]
          },
          "metadata": {
            "tags": []
          }
        }
      ]
    },
    {
      "cell_type": "code",
      "metadata": {
        "id": "bByznN_cL9c8",
        "colab_type": "code",
        "outputId": "1588c72a-8e0e-4754-8207-12dc0c4fc705",
        "colab": {
          "base_uri": "https://localhost:8080/",
          "height": 820
        }
      },
      "source": [
        "# Prediction \n",
        "y_pred = model.predict(X_val)\n",
        "X_val__ = X_val.reshape(X_val.shape[0], 28, 28)\n",
        "\n",
        "fig, axis = plt.subplots(4, 4, figsize=(12, 14))\n",
        "for i, ax in enumerate(axis.flat):\n",
        "    ax.imshow(X_val__[i], cmap='binary')\n",
        "    ax.set(title = f\"Real Number is {y_val[i].argmax()}\\nPredict Number is {y_pred[i].argmax()}\");"
      ],
      "execution_count": 0,
      "outputs": [
        {
          "output_type": "display_data",
          "data": {
            "image/png": "[encoded data removed]",
            "text/plain": [
              "<Figure size 864x1008 with 16 Axes>"
            ]
          },
          "metadata": {
            "tags": []
          }
        }
      ]
    },
    {
      "cell_type": "code",
      "metadata": {
        "id": "PUB9r5UdMGr8",
        "colab_type": "code",
        "colab": {}
      },
      "source": [
        "pred = model.predict_classes(test_X, verbose = 1)"
      ],
      "execution_count": 0,
      "outputs": []
    },
    {
      "cell_type": "code",
      "metadata": {
        "id": "1-QzNivNMLfo",
        "colab_type": "code",
        "colab": {}
      },
      "source": [
        ""
      ],
      "execution_count": 0,
      "outputs": []
    }
  ]
}